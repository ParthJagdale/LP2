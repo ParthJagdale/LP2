{
 "cells": [
  {
   "cell_type": "code",
   "execution_count": 2,
   "id": "316f9c6c",
   "metadata": {},
   "outputs": [
    {
     "name": "stdout",
     "output_type": "stream",
     "text": [
      "Welcome to Tic Tac Toe\n",
      "0 | 1 | 2 \n",
      "--|---|---\n",
      "3 | 4 | 5 \n",
      "--|---|---\n",
      "6 | 7 | 8 \n",
      "X's Chance\n"
     ]
    },
    {
     "ename": "ValueError",
     "evalue": "invalid literal for int() with base 10: ''",
     "output_type": "error",
     "traceback": [
      "\u001b[1;31m---------------------------------------------------------------------------\u001b[0m",
      "\u001b[1;31mValueError\u001b[0m                                Traceback (most recent call last)",
      "Cell \u001b[1;32mIn[2], line 40\u001b[0m\n\u001b[0;32m     38\u001b[0m \u001b[39mif\u001b[39;00m(turn \u001b[39m==\u001b[39m \u001b[39m1\u001b[39m):\n\u001b[0;32m     39\u001b[0m     \u001b[39mprint\u001b[39m(\u001b[39m\"\u001b[39m\u001b[39mX\u001b[39m\u001b[39m'\u001b[39m\u001b[39ms Chance\u001b[39m\u001b[39m\"\u001b[39m)\n\u001b[1;32m---> 40\u001b[0m     value \u001b[39m=\u001b[39m \u001b[39mint\u001b[39;49m(\u001b[39minput\u001b[39;49m(\u001b[39m\"\u001b[39;49m\u001b[39mPlease enter a value: \u001b[39;49m\u001b[39m\"\u001b[39;49m))\n\u001b[0;32m     41\u001b[0m     xState[value] \u001b[39m=\u001b[39m \u001b[39m1\u001b[39m\n\u001b[0;32m     42\u001b[0m \u001b[39melse\u001b[39;00m:\n",
      "\u001b[1;31mValueError\u001b[0m: invalid literal for int() with base 10: ''"
     ]
    }
   ],
   "source": [
    "def sum(a, b, c ):\n",
    "    return a + b + c\n",
    "\n",
    "def printBoard(xState, zState):\n",
    "    zero = 'X' if xState[0] else ('O' if zState[0] else 0)\n",
    "    one = 'X' if xState[1] else ('O' if zState[1] else 1)\n",
    "    two = 'X' if xState[2] else ('O' if zState[2] else 2)\n",
    "    three = 'X' if xState[3] else ('O' if zState[3] else 3)\n",
    "    four = 'X' if xState[4] else ('O' if zState[4] else 4)\n",
    "    five = 'X' if xState[5] else ('O' if zState[5] else 5)\n",
    "    six = 'X' if xState[6] else ('O' if zState[6] else 6)\n",
    "    seven = 'X' if xState[7] else ('O' if zState[7] else 7)\n",
    "    eight = 'X' if xState[8] else ('O' if zState[8] else 8)\n",
    "    print(f\"{zero} | {one} | {two} \")\n",
    "    print(f\"--|---|---\")\n",
    "    print(f\"{three} | {four} | {five} \")\n",
    "    print(f\"--|---|---\")\n",
    "    print(f\"{six} | {seven} | {eight} \") \n",
    "\n",
    "def checkWin(xState, zState):\n",
    "    wins = [[0, 1, 2], [3, 4, 5], [6, 7, 8], [0, 3, 6], [1, 4, 7], [2, 5, 8], [0, 4, 8], [2, 4, 6]]\n",
    "    for win in wins:\n",
    "        if(sum(xState[win[0]], xState[win[1]], xState[win[2]]) == 3):\n",
    "            print(\"X Won the match\")\n",
    "            return 1\n",
    "        if(sum(zState[win[0]], zState[win[1]], zState[win[2]]) == 3):\n",
    "            print(\"O Won the match\")\n",
    "            return 0\n",
    "    return -1\n",
    "    \n",
    "if __name__ == \"__main__\":\n",
    "    xState = [0, 0, 0, 0, 0, 0, 0, 0, 0]\n",
    "    zState = [0, 0, 0, 0, 0, 0, 0, 0, 0]\n",
    "    turn = 1 # 1 for X and 0 for O\n",
    "    print(\"Welcome to Tic Tac Toe\")\n",
    "    while(True):\n",
    "        printBoard(xState, zState)\n",
    "        if(turn == 1):\n",
    "            print(\"X's Chance\")\n",
    "            value = int(input(\"Please enter a value: \"))\n",
    "            xState[value] = 1\n",
    "        else:\n",
    "            print(\"O's Chance\")\n",
    "            value = int(input(\"Please enter a value: \"))\n",
    "            zState[value] = 1\n",
    "        cwin = checkWin(xState, zState)\n",
    "        if(cwin != -1):\n",
    "            print(\"Match over\")\n",
    "            break\n",
    "        \n",
    "        turn = 1 - turn"
   ]
  }
 ],
 "metadata": {
  "kernelspec": {
   "display_name": "Python 3 (ipykernel)",
   "language": "python",
   "name": "python3"
  },
  "language_info": {
   "codemirror_mode": {
    "name": "ipython",
    "version": 3
   },
   "file_extension": ".py",
   "mimetype": "text/x-python",
   "name": "python",
   "nbconvert_exporter": "python",
   "pygments_lexer": "ipython3",
   "version": "3.9.2"
  }
 },
 "nbformat": 4,
 "nbformat_minor": 5
}
